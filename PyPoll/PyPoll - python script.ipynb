{
 "cells": [
  {
   "cell_type": "code",
   "execution_count": 1,
   "metadata": {},
   "outputs": [
    {
     "name": "stdout",
     "output_type": "stream",
     "text": [
      "Election Data Results\n",
      "-------------------\n",
      "Total votes: 3521001\n",
      "Khan: 63.0% (2218231)\n",
      "Correy: 20.0% (704200)\n",
      "Li: 14.0% (492940)\n",
      "O'Tooley: 3.0% (105630)\n",
      "Winner: Khan\n"
     ]
    }
   ],
   "source": [
    "import os\n",
    "import csv\n",
    "\n",
    "#where the election_data.csv is located\n",
    "csv_path = os.path.join(\"Resources/election_data.csv\")\n",
    "\n",
    "\n",
    "candidates = []\n",
    "vote_count = []\n",
    "vote_count_winner = 0\n",
    "total_number_votes = 0\n",
    "\n",
    "with open(csv_path, newline=\"\") as csvfile:\n",
    "    csvreader = csv.reader(csvfile, delimiter=',')\n",
    "    csv_header = next(csvfile)\n",
    "    \n",
    "# print(f\"csv header: {csv_header}\")\n",
    "# csv header: Voter ID,County,Candidate\n",
    "#reading/looping through each row of data after the header row\n",
    "\n",
    "    for row in csvreader: \n",
    "        total_number_votes = total_number_votes + 1\n",
    "     \n",
    "        if row[2] not in candidates:\n",
    "            candidates.append(row[2])\n",
    "            vote_count.append(0)\n",
    "           \n",
    "            \n",
    "        candidate_index = candidates.index(row[2])\n",
    "        \n",
    "        vote_count[candidate_index] =  vote_count[candidate_index] + 1\n",
    "        \n",
    "        \n",
    "                \n",
    "    print(\"Election Data Results\")\n",
    "    print(\"-------------------\")\n",
    "    print(f\"Total votes: {total_number_votes}\")  \n",
    "    \n",
    "    for x in range(len(candidates)):\n",
    "        \n",
    "        percentage_vote = round((vote_count[x]/total_number_votes)*100, 3)\n",
    "        print(f\"{candidates[x]}: {percentage_vote}% ({vote_count[x]})\")\n",
    "        \n",
    "        if (vote_count_winner < vote_count[x]):\n",
    "            vote_count_winner = vote_count[x]\n",
    "            winner = candidates[x]\n",
    "            \n",
    "    print(f\"Winner: {winner}\")\n",
    "        \n",
    "#output files\n",
    "output_path = os.path.join(\".\", 'output.txt') \n",
    "              \n",
    "with open(output_path, \"w\") as txt:\n",
    "    txt.write(\"Election Data Results\")\n",
    "    txt.write('\\n')\n",
    "    txt.write(f\"Total votes: {total_number_votes}\")\n",
    "    txt.write('\\n')\n",
    "    txt.write(f\"{candidates[x]}: {percentage_vote}% ({vote_count[x]})\")\n",
    "    txt.write('\\n')\n",
    "    txt.write(f\"Winner: {winner}\")\n",
    "    "
   ]
  },
  {
   "cell_type": "code",
   "execution_count": null,
   "metadata": {},
   "outputs": [],
   "source": []
  }
 ],
 "metadata": {
  "kernelspec": {
   "display_name": "Conda [PythonData]",
   "language": "python",
   "name": "pythondata"
  },
  "language_info": {
   "codemirror_mode": {
    "name": "ipython",
    "version": 3
   },
   "file_extension": ".py",
   "mimetype": "text/x-python",
   "name": "python",
   "nbconvert_exporter": "python",
   "pygments_lexer": "ipython3",
   "version": "3.6.9"
  }
 },
 "nbformat": 4,
 "nbformat_minor": 2
}
