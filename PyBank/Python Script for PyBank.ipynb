{
 "cells": [
  {
   "cell_type": "code",
   "execution_count": 1,
   "metadata": {},
   "outputs": [
    {
     "name": "stdout",
     "output_type": "stream",
     "text": [
      "Budget Data Analysis\n",
      "------------------------\n",
      "Total Months:86\n",
      "Total: $38382578\n",
      "Average Change: -2315.12\n",
      "Greatest Increase in Profits: Feb-2012 ($1926159)\n",
      "Greatest Decrease in Profits: Sep-2013 ($-2196167)\n"
     ]
    }
   ],
   "source": [
    "import os\n",
    "import csv\n",
    "\n",
    "csvpath = os.path.join(\"Resources/budget_data.csv\")\n",
    "\n",
    "\n",
    "with open(csvpath, newline=\"\") as csvfile:\n",
    "    csvreader = csv.reader(csvfile, delimiter=',')\n",
    "    header = next(csvreader)\n",
    "    \n",
    "    total_number_months = []\n",
    "    total_budget_data_profit = []\n",
    "    monthly_change_budget_data = []\n",
    "    \n",
    "    \n",
    "    \n",
    "    for row in csvreader:\n",
    "        total_number_months.append(row[0])\n",
    "        total_budget_data_profit.append(int(row[1]))\n",
    "        \n",
    "                    \n",
    "    for i in range(len(total_budget_data_profit)-1):\n",
    "        \n",
    "        monthly_change_budget_data.append(total_budget_data_profit[i+1]-total_budget_data_profit[i])\n",
    "        \n",
    "        \n",
    "    max_increase = max(monthly_change_budget_data)\n",
    "    max_decrease = min(monthly_change_budget_data)\n",
    "        \n",
    "    monthly_max_increase = monthly_change_budget_data.index(max(monthly_change_budget_data)) + 1\n",
    "    monthly_max_decrease = monthly_change_budget_data.index(min(monthly_change_budget_data)) + 1     \n",
    "        \n",
    "    # Print out results\n",
    "    print(\"Budget Data Analysis\")\n",
    "    print(\"------------------------\")\n",
    "    print(f\"Total Months:{len(total_number_months)}\")\n",
    "    print(f\"Total: ${sum(total_budget_data_profit)}\")\n",
    "    print(f\"Average Change: {round(sum(monthly_change_budget_data)/len(monthly_change_budget_data),2)}\")\n",
    "    print(f\"Greatest Increase in Profits: {total_number_months[monthly_max_increase]} (${(str(max_increase))})\")\n",
    "    print(f\"Greatest Decrease in Profits: {total_number_months[monthly_max_decrease]} (${(str(max_decrease))})\")             \n",
    "    \n",
    "\n",
    "#Output files\n",
    "output_path = os.path.join(\".\", 'output.txt')   \n",
    "\n",
    "with open(output_path, 'w') as txt:\n",
    "#write methods to print to Budget_Data_Analysis_Summary   \n",
    "    txt.write(\"Budget Analysis Summary\")\n",
    "    txt.write(\"\\n\")\n",
    "    txt.write(\"----------------------------\")\n",
    "    txt.write(\"\\n\")\n",
    "    txt.write(f\"Total Months: {len(total_number_months)}\")\n",
    "    txt.write(\"\\n\")\n",
    "    txt.write(f\"Total: ${sum(total_budget_data_profit)}\")\n",
    "    txt.write(\"\\n\")\n",
    "    txt.write(f\"Average Change: {round(sum(monthly_change_budget_data)/len(monthly_change_budget_data),2)}\")\n",
    "    txt.write(\"\\n\")\n",
    "    txt.write(f\"Greatest Increase in Profits: {total_number_months[monthly_max_increase]} (${(str(max_increase))})\")\n",
    "    txt.write(\"\\n\")\n",
    "    txt.write(f\"Greatest Decrease in Profits: {total_number_months[monthly_max_decrease]} (${(str(max_decrease))})\")\n"
   ]
  },
  {
   "cell_type": "code",
   "execution_count": null,
   "metadata": {},
   "outputs": [],
   "source": []
  }
 ],
 "metadata": {
  "kernelspec": {
   "display_name": "Conda [PythonData]",
   "language": "python",
   "name": "pythondata"
  },
  "language_info": {
   "codemirror_mode": {
    "name": "ipython",
    "version": 3
   },
   "file_extension": ".py",
   "mimetype": "text/x-python",
   "name": "python",
   "nbconvert_exporter": "python",
   "pygments_lexer": "ipython3",
   "version": "3.6.9"
  }
 },
 "nbformat": 4,
 "nbformat_minor": 2
}
